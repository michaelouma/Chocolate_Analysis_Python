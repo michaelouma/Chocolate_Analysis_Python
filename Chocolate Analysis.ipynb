{
 "cells": [
  {
   "cell_type": "markdown",
   "id": "2fba0a74-4aea-4750-8a7c-dda92b04be37",
   "metadata": {},
   "source": [
    "# CHOCOLATE DATA ANALYSIS "
   ]
  },
  {
   "cell_type": "markdown",
   "id": "a2a86c06-9276-4b05-807e-b4f352b1611e",
   "metadata": {},
   "source": [
    "### Importing libraries"
   ]
  },
  {
   "cell_type": "code",
   "execution_count": 28,
   "id": "8e14c5d4-f303-494d-b37c-ddf927efe8bc",
   "metadata": {},
   "outputs": [],
   "source": [
    "import pandas as pd                 "
   ]
  },
  {
   "cell_type": "markdown",
   "id": "d70d0f05-3d97-4648-93e9-90965158c3e8",
   "metadata": {},
   "source": [
    "### Importing Chocolate Portfolio Project data"
   ]
  },
  {
   "cell_type": "code",
   "execution_count": 2,
   "id": "45ddf319-103e-4311-8258-bf2f40b2f743",
   "metadata": {},
   "outputs": [],
   "source": [
    "df=pd.read_csv(\"C:/Users/ADMIN/OneDrive/Desktop/Mike/mydata/choclate protfolio project - 11.csv\")"
   ]
  },
  {
   "cell_type": "code",
   "execution_count": 3,
   "id": "ce7af180-3c05-4aa8-9725-7eb269dfc66d",
   "metadata": {},
   "outputs": [
    {
     "data": {
      "text/html": [
       "<div>\n",
       "<style scoped>\n",
       "    .dataframe tbody tr th:only-of-type {\n",
       "        vertical-align: middle;\n",
       "    }\n",
       "\n",
       "    .dataframe tbody tr th {\n",
       "        vertical-align: top;\n",
       "    }\n",
       "\n",
       "    .dataframe thead th {\n",
       "        text-align: right;\n",
       "    }\n",
       "</style>\n",
       "<table border=\"1\" class=\"dataframe\">\n",
       "  <thead>\n",
       "    <tr style=\"text-align: right;\">\n",
       "      <th></th>\n",
       "      <th>Sales Person</th>\n",
       "      <th>Geography</th>\n",
       "      <th>Product</th>\n",
       "      <th>Amount</th>\n",
       "      <th>Units</th>\n",
       "      <th>cost per unit</th>\n",
       "      <th>Cost</th>\n",
       "      <th>Profit</th>\n",
       "      <th>profit %</th>\n",
       "    </tr>\n",
       "  </thead>\n",
       "  <tbody>\n",
       "    <tr>\n",
       "      <th>0</th>\n",
       "      <td>Ram Mahesh</td>\n",
       "      <td>New Zealand</td>\n",
       "      <td>70% Dark Bites</td>\n",
       "      <td>$1,624</td>\n",
       "      <td>114</td>\n",
       "      <td>14</td>\n",
       "      <td>1,652</td>\n",
       "      <td>($28)</td>\n",
       "      <td>-2%</td>\n",
       "    </tr>\n",
       "    <tr>\n",
       "      <th>1</th>\n",
       "      <td>Brien Boise</td>\n",
       "      <td>USA</td>\n",
       "      <td>Choco Coated Almonds</td>\n",
       "      <td>$6,706</td>\n",
       "      <td>459</td>\n",
       "      <td>9</td>\n",
       "      <td>3,970</td>\n",
       "      <td>$2,736</td>\n",
       "      <td>41%</td>\n",
       "    </tr>\n",
       "    <tr>\n",
       "      <th>2</th>\n",
       "      <td>Husein Augar</td>\n",
       "      <td>USA</td>\n",
       "      <td>Almond Choco</td>\n",
       "      <td>$959</td>\n",
       "      <td>147</td>\n",
       "      <td>12</td>\n",
       "      <td>1,746</td>\n",
       "      <td>($787)</td>\n",
       "      <td>-82%</td>\n",
       "    </tr>\n",
       "    <tr>\n",
       "      <th>3</th>\n",
       "      <td>Carla Molina</td>\n",
       "      <td>Canada</td>\n",
       "      <td>Drinking Coco</td>\n",
       "      <td>$9,632</td>\n",
       "      <td>288</td>\n",
       "      <td>6</td>\n",
       "      <td>1,863</td>\n",
       "      <td>$7,769</td>\n",
       "      <td>81%</td>\n",
       "    </tr>\n",
       "    <tr>\n",
       "      <th>4</th>\n",
       "      <td>Curtice Advani</td>\n",
       "      <td>UK</td>\n",
       "      <td>White Choc</td>\n",
       "      <td>$2,100</td>\n",
       "      <td>414</td>\n",
       "      <td>13</td>\n",
       "      <td>5,444</td>\n",
       "      <td>($3,344)</td>\n",
       "      <td>-159%</td>\n",
       "    </tr>\n",
       "    <tr>\n",
       "      <th>5</th>\n",
       "      <td>Ram Mahesh</td>\n",
       "      <td>USA</td>\n",
       "      <td>Peanut Butter Cubes</td>\n",
       "      <td>$8,869</td>\n",
       "      <td>432</td>\n",
       "      <td>12</td>\n",
       "      <td>5,344</td>\n",
       "      <td>$3,525</td>\n",
       "      <td>40%</td>\n",
       "    </tr>\n",
       "    <tr>\n",
       "      <th>6</th>\n",
       "      <td>Curtice Advani</td>\n",
       "      <td>Australia</td>\n",
       "      <td>Smooth Sliky Salty</td>\n",
       "      <td>$2,681</td>\n",
       "      <td>54</td>\n",
       "      <td>6</td>\n",
       "      <td>313</td>\n",
       "      <td>$2,368</td>\n",
       "      <td>88%</td>\n",
       "    </tr>\n",
       "    <tr>\n",
       "      <th>7</th>\n",
       "      <td>Brien Boise</td>\n",
       "      <td>USA</td>\n",
       "      <td>After Nines</td>\n",
       "      <td>$5,012</td>\n",
       "      <td>210</td>\n",
       "      <td>10</td>\n",
       "      <td>2,052</td>\n",
       "      <td>$2,960</td>\n",
       "      <td>59%</td>\n",
       "    </tr>\n",
       "    <tr>\n",
       "      <th>8</th>\n",
       "      <td>Ches Bonnell</td>\n",
       "      <td>Australia</td>\n",
       "      <td>50% Dark Bites</td>\n",
       "      <td>$1,281</td>\n",
       "      <td>75</td>\n",
       "      <td>12</td>\n",
       "      <td>878</td>\n",
       "      <td>$404</td>\n",
       "      <td>31%</td>\n",
       "    </tr>\n",
       "    <tr>\n",
       "      <th>9</th>\n",
       "      <td>Gigi Bohling</td>\n",
       "      <td>New Zealand</td>\n",
       "      <td>50% Dark Bites</td>\n",
       "      <td>$4,991</td>\n",
       "      <td>12</td>\n",
       "      <td>12</td>\n",
       "      <td>140</td>\n",
       "      <td>$4,851</td>\n",
       "      <td>97%</td>\n",
       "    </tr>\n",
       "  </tbody>\n",
       "</table>\n",
       "</div>"
      ],
      "text/plain": [
       "     Sales Person    Geography               Product   Amount  Units  \\\n",
       "0      Ram Mahesh  New Zealand        70% Dark Bites  $1,624     114   \n",
       "1     Brien Boise          USA  Choco Coated Almonds  $6,706     459   \n",
       "2    Husein Augar          USA          Almond Choco    $959     147   \n",
       "3    Carla Molina       Canada         Drinking Coco  $9,632     288   \n",
       "4  Curtice Advani           UK            White Choc  $2,100     414   \n",
       "5      Ram Mahesh          USA   Peanut Butter Cubes  $8,869     432   \n",
       "6  Curtice Advani    Australia    Smooth Sliky Salty  $2,681      54   \n",
       "7     Brien Boise          USA           After Nines  $5,012     210   \n",
       "8    Ches Bonnell    Australia        50% Dark Bites  $1,281      75   \n",
       "9    Gigi Bohling  New Zealand        50% Dark Bites  $4,991      12   \n",
       "\n",
       "   cost per unit   Cost    Profit profit %  \n",
       "0             14  1,652     ($28)      -2%  \n",
       "1              9  3,970   $2,736       41%  \n",
       "2             12  1,746    ($787)     -82%  \n",
       "3              6  1,863   $7,769       81%  \n",
       "4             13  5,444  ($3,344)    -159%  \n",
       "5             12  5,344   $3,525       40%  \n",
       "6              6    313   $2,368       88%  \n",
       "7             10  2,052   $2,960       59%  \n",
       "8             12    878     $404       31%  \n",
       "9             12    140   $4,851       97%  "
      ]
     },
     "execution_count": 3,
     "metadata": {},
     "output_type": "execute_result"
    }
   ],
   "source": [
    "df.head(10)"
   ]
  },
  {
   "cell_type": "code",
   "execution_count": 4,
   "id": "03e3ca29-cf06-4d47-8bac-658fc7af1927",
   "metadata": {
    "scrolled": true
   },
   "outputs": [
    {
     "name": "stdout",
     "output_type": "stream",
     "text": [
      "<class 'pandas.core.frame.DataFrame'>\n",
      "RangeIndex: 300 entries, 0 to 299\n",
      "Data columns (total 9 columns):\n",
      " #   Column         Non-Null Count  Dtype \n",
      "---  ------         --------------  ----- \n",
      " 0   Sales Person   300 non-null    object\n",
      " 1   Geography      300 non-null    object\n",
      " 2   Product        300 non-null    object\n",
      " 3   Amount         300 non-null    object\n",
      " 4   Units          300 non-null    int64 \n",
      " 5   cost per unit  300 non-null    int64 \n",
      " 6   Cost           300 non-null    object\n",
      " 7   Profit         300 non-null    object\n",
      " 8   profit %       300 non-null    object\n",
      "dtypes: int64(2), object(7)\n",
      "memory usage: 21.2+ KB\n"
     ]
    }
   ],
   "source": [
    "df.info()"
   ]
  },
  {
   "cell_type": "markdown",
   "id": "5dd45683-920f-4f60-89b3-f13b393d26e4",
   "metadata": {},
   "source": [
    "### Cleaning Profit column "
   ]
  },
  {
   "cell_type": "code",
   "execution_count": 5,
   "id": "beb05f6f-8b6d-44b5-a350-f4d3301b39a0",
   "metadata": {},
   "outputs": [],
   "source": [
    "##replacing the loss bracket with negative sign \n",
    "\n",
    "df['Profit']= df['Profit'].str.replace(r'\\((.*?)\\)',lambda x:'-' + x.group(1),regex = True)"
   ]
  },
  {
   "cell_type": "code",
   "execution_count": 6,
   "id": "1f5e18ba-2079-4696-a06a-347eed1a1451",
   "metadata": {},
   "outputs": [],
   "source": [
    "##removing the $ sign \n",
    "\n",
    "df['Profit']= df['Profit'].str.replace('$','',regex = True)"
   ]
  },
  {
   "cell_type": "code",
   "execution_count": 7,
   "id": "93f43a3f-55f5-4772-b5f9-6cbccdf15c2f",
   "metadata": {},
   "outputs": [],
   "source": [
    "##removing the commas \n",
    "\n",
    "df['Profit']= df['Profit'].str.replace('[, ]','',regex = True)"
   ]
  },
  {
   "cell_type": "code",
   "execution_count": 8,
   "id": "9eb5c9cb-14f4-4f6e-857c-63ed53fd9b6d",
   "metadata": {},
   "outputs": [],
   "source": [
    "##changing the column to numeric\n",
    "\n",
    "df['Profit']= pd.to_numeric(df['Profit'])"
   ]
  },
  {
   "cell_type": "code",
   "execution_count": 9,
   "id": "5ff9c3eb-b67c-42fc-9bc8-fd3f9b883181",
   "metadata": {},
   "outputs": [
    {
     "data": {
      "text/html": [
       "<div>\n",
       "<style scoped>\n",
       "    .dataframe tbody tr th:only-of-type {\n",
       "        vertical-align: middle;\n",
       "    }\n",
       "\n",
       "    .dataframe tbody tr th {\n",
       "        vertical-align: top;\n",
       "    }\n",
       "\n",
       "    .dataframe thead th {\n",
       "        text-align: right;\n",
       "    }\n",
       "</style>\n",
       "<table border=\"1\" class=\"dataframe\">\n",
       "  <thead>\n",
       "    <tr style=\"text-align: right;\">\n",
       "      <th></th>\n",
       "      <th>Sales Person</th>\n",
       "      <th>Geography</th>\n",
       "      <th>Product</th>\n",
       "      <th>Amount</th>\n",
       "      <th>Units</th>\n",
       "      <th>cost per unit</th>\n",
       "      <th>Cost</th>\n",
       "      <th>Profit</th>\n",
       "      <th>profit %</th>\n",
       "    </tr>\n",
       "  </thead>\n",
       "  <tbody>\n",
       "    <tr>\n",
       "      <th>0</th>\n",
       "      <td>Ram Mahesh</td>\n",
       "      <td>New Zealand</td>\n",
       "      <td>70% Dark Bites</td>\n",
       "      <td>$1,624</td>\n",
       "      <td>114</td>\n",
       "      <td>14</td>\n",
       "      <td>1,652</td>\n",
       "      <td>-28</td>\n",
       "      <td>-2%</td>\n",
       "    </tr>\n",
       "    <tr>\n",
       "      <th>1</th>\n",
       "      <td>Brien Boise</td>\n",
       "      <td>USA</td>\n",
       "      <td>Choco Coated Almonds</td>\n",
       "      <td>$6,706</td>\n",
       "      <td>459</td>\n",
       "      <td>9</td>\n",
       "      <td>3,970</td>\n",
       "      <td>2736</td>\n",
       "      <td>41%</td>\n",
       "    </tr>\n",
       "    <tr>\n",
       "      <th>2</th>\n",
       "      <td>Husein Augar</td>\n",
       "      <td>USA</td>\n",
       "      <td>Almond Choco</td>\n",
       "      <td>$959</td>\n",
       "      <td>147</td>\n",
       "      <td>12</td>\n",
       "      <td>1,746</td>\n",
       "      <td>-787</td>\n",
       "      <td>-82%</td>\n",
       "    </tr>\n",
       "    <tr>\n",
       "      <th>3</th>\n",
       "      <td>Carla Molina</td>\n",
       "      <td>Canada</td>\n",
       "      <td>Drinking Coco</td>\n",
       "      <td>$9,632</td>\n",
       "      <td>288</td>\n",
       "      <td>6</td>\n",
       "      <td>1,863</td>\n",
       "      <td>7769</td>\n",
       "      <td>81%</td>\n",
       "    </tr>\n",
       "    <tr>\n",
       "      <th>4</th>\n",
       "      <td>Curtice Advani</td>\n",
       "      <td>UK</td>\n",
       "      <td>White Choc</td>\n",
       "      <td>$2,100</td>\n",
       "      <td>414</td>\n",
       "      <td>13</td>\n",
       "      <td>5,444</td>\n",
       "      <td>-3344</td>\n",
       "      <td>-159%</td>\n",
       "    </tr>\n",
       "  </tbody>\n",
       "</table>\n",
       "</div>"
      ],
      "text/plain": [
       "     Sales Person    Geography               Product   Amount  Units  \\\n",
       "0      Ram Mahesh  New Zealand        70% Dark Bites  $1,624     114   \n",
       "1     Brien Boise          USA  Choco Coated Almonds  $6,706     459   \n",
       "2    Husein Augar          USA          Almond Choco    $959     147   \n",
       "3    Carla Molina       Canada         Drinking Coco  $9,632     288   \n",
       "4  Curtice Advani           UK            White Choc  $2,100     414   \n",
       "\n",
       "   cost per unit   Cost  Profit profit %  \n",
       "0             14  1,652     -28      -2%  \n",
       "1              9  3,970    2736      41%  \n",
       "2             12  1,746    -787     -82%  \n",
       "3              6  1,863    7769      81%  \n",
       "4             13  5,444   -3344    -159%  "
      ]
     },
     "execution_count": 9,
     "metadata": {},
     "output_type": "execute_result"
    }
   ],
   "source": [
    "##viewing the top five rows\n",
    "\n",
    "df.head(5)"
   ]
  },
  {
   "cell_type": "markdown",
   "id": "67f868b5-45a2-43cc-8863-3307dfaa2f21",
   "metadata": {},
   "source": [
    "### Cleaning Cost column and changing its data type "
   ]
  },
  {
   "cell_type": "code",
   "execution_count": 10,
   "id": "6b3e5bc3-24dd-4b96-9037-dd565e47f5a5",
   "metadata": {},
   "outputs": [],
   "source": [
    "df['Cost']= df['Cost'].str.replace('[, ]','',regex = True)"
   ]
  },
  {
   "cell_type": "code",
   "execution_count": 11,
   "id": "971c86e2-570d-4f16-ad0a-a3ba52631ca8",
   "metadata": {},
   "outputs": [],
   "source": [
    "df['Cost']= df['Cost'].astype(int)"
   ]
  },
  {
   "cell_type": "code",
   "execution_count": 12,
   "id": "a5a67e4e-36f8-4cfc-b2e5-d3aff7ebdde0",
   "metadata": {},
   "outputs": [
    {
     "name": "stdout",
     "output_type": "stream",
     "text": [
      "<class 'pandas.core.frame.DataFrame'>\n",
      "RangeIndex: 300 entries, 0 to 299\n",
      "Data columns (total 9 columns):\n",
      " #   Column         Non-Null Count  Dtype \n",
      "---  ------         --------------  ----- \n",
      " 0   Sales Person   300 non-null    object\n",
      " 1   Geography      300 non-null    object\n",
      " 2   Product        300 non-null    object\n",
      " 3   Amount         300 non-null    object\n",
      " 4   Units          300 non-null    int64 \n",
      " 5   cost per unit  300 non-null    int64 \n",
      " 6   Cost           300 non-null    int32 \n",
      " 7   Profit         300 non-null    int64 \n",
      " 8   profit %       300 non-null    object\n",
      "dtypes: int32(1), int64(3), object(5)\n",
      "memory usage: 20.1+ KB\n"
     ]
    }
   ],
   "source": [
    "df.info()"
   ]
  },
  {
   "cell_type": "markdown",
   "id": "4d347d04-ff81-4eff-9a10-07c34ce0d547",
   "metadata": {},
   "source": [
    "### Dropping Profit% column"
   ]
  },
  {
   "cell_type": "code",
   "execution_count": 13,
   "id": "1f662bfc-61e5-4a71-a688-5533f2576e5b",
   "metadata": {},
   "outputs": [
    {
     "data": {
      "text/html": [
       "<div>\n",
       "<style scoped>\n",
       "    .dataframe tbody tr th:only-of-type {\n",
       "        vertical-align: middle;\n",
       "    }\n",
       "\n",
       "    .dataframe tbody tr th {\n",
       "        vertical-align: top;\n",
       "    }\n",
       "\n",
       "    .dataframe thead th {\n",
       "        text-align: right;\n",
       "    }\n",
       "</style>\n",
       "<table border=\"1\" class=\"dataframe\">\n",
       "  <thead>\n",
       "    <tr style=\"text-align: right;\">\n",
       "      <th></th>\n",
       "      <th>Sales Person</th>\n",
       "      <th>Geography</th>\n",
       "      <th>Product</th>\n",
       "      <th>Amount</th>\n",
       "      <th>Units</th>\n",
       "      <th>cost per unit</th>\n",
       "      <th>Cost</th>\n",
       "      <th>Profit</th>\n",
       "    </tr>\n",
       "  </thead>\n",
       "  <tbody>\n",
       "    <tr>\n",
       "      <th>0</th>\n",
       "      <td>Ram Mahesh</td>\n",
       "      <td>New Zealand</td>\n",
       "      <td>70% Dark Bites</td>\n",
       "      <td>$1,624</td>\n",
       "      <td>114</td>\n",
       "      <td>14</td>\n",
       "      <td>1652</td>\n",
       "      <td>-28</td>\n",
       "    </tr>\n",
       "    <tr>\n",
       "      <th>1</th>\n",
       "      <td>Brien Boise</td>\n",
       "      <td>USA</td>\n",
       "      <td>Choco Coated Almonds</td>\n",
       "      <td>$6,706</td>\n",
       "      <td>459</td>\n",
       "      <td>9</td>\n",
       "      <td>3970</td>\n",
       "      <td>2736</td>\n",
       "    </tr>\n",
       "    <tr>\n",
       "      <th>2</th>\n",
       "      <td>Husein Augar</td>\n",
       "      <td>USA</td>\n",
       "      <td>Almond Choco</td>\n",
       "      <td>$959</td>\n",
       "      <td>147</td>\n",
       "      <td>12</td>\n",
       "      <td>1746</td>\n",
       "      <td>-787</td>\n",
       "    </tr>\n",
       "    <tr>\n",
       "      <th>3</th>\n",
       "      <td>Carla Molina</td>\n",
       "      <td>Canada</td>\n",
       "      <td>Drinking Coco</td>\n",
       "      <td>$9,632</td>\n",
       "      <td>288</td>\n",
       "      <td>6</td>\n",
       "      <td>1863</td>\n",
       "      <td>7769</td>\n",
       "    </tr>\n",
       "    <tr>\n",
       "      <th>4</th>\n",
       "      <td>Curtice Advani</td>\n",
       "      <td>UK</td>\n",
       "      <td>White Choc</td>\n",
       "      <td>$2,100</td>\n",
       "      <td>414</td>\n",
       "      <td>13</td>\n",
       "      <td>5444</td>\n",
       "      <td>-3344</td>\n",
       "    </tr>\n",
       "    <tr>\n",
       "      <th>...</th>\n",
       "      <td>...</td>\n",
       "      <td>...</td>\n",
       "      <td>...</td>\n",
       "      <td>...</td>\n",
       "      <td>...</td>\n",
       "      <td>...</td>\n",
       "      <td>...</td>\n",
       "      <td>...</td>\n",
       "    </tr>\n",
       "    <tr>\n",
       "      <th>295</th>\n",
       "      <td>Gunar Cockshoot</td>\n",
       "      <td>New Zealand</td>\n",
       "      <td>Almond Choco</td>\n",
       "      <td>$938</td>\n",
       "      <td>366</td>\n",
       "      <td>12</td>\n",
       "      <td>4348</td>\n",
       "      <td>-3410</td>\n",
       "    </tr>\n",
       "    <tr>\n",
       "      <th>296</th>\n",
       "      <td>Gunar Cockshoot</td>\n",
       "      <td>Australia</td>\n",
       "      <td>Baker's Choco Chips</td>\n",
       "      <td>$8,841</td>\n",
       "      <td>303</td>\n",
       "      <td>6</td>\n",
       "      <td>1697</td>\n",
       "      <td>7144</td>\n",
       "    </tr>\n",
       "    <tr>\n",
       "      <th>297</th>\n",
       "      <td>Barr Faughny</td>\n",
       "      <td>UK</td>\n",
       "      <td>Peanut Butter Cubes</td>\n",
       "      <td>$4,018</td>\n",
       "      <td>126</td>\n",
       "      <td>12</td>\n",
       "      <td>1559</td>\n",
       "      <td>2459</td>\n",
       "    </tr>\n",
       "    <tr>\n",
       "      <th>298</th>\n",
       "      <td>Carla Molina</td>\n",
       "      <td>New Zealand</td>\n",
       "      <td>Raspberry Choco</td>\n",
       "      <td>$714</td>\n",
       "      <td>231</td>\n",
       "      <td>12</td>\n",
       "      <td>2710</td>\n",
       "      <td>-1996</td>\n",
       "    </tr>\n",
       "    <tr>\n",
       "      <th>299</th>\n",
       "      <td>Husein Augar</td>\n",
       "      <td>Australia</td>\n",
       "      <td>White Choc</td>\n",
       "      <td>$3,850</td>\n",
       "      <td>102</td>\n",
       "      <td>13</td>\n",
       "      <td>1341</td>\n",
       "      <td>2509</td>\n",
       "    </tr>\n",
       "  </tbody>\n",
       "</table>\n",
       "<p>300 rows × 8 columns</p>\n",
       "</div>"
      ],
      "text/plain": [
       "        Sales Person    Geography               Product   Amount  Units  \\\n",
       "0         Ram Mahesh  New Zealand        70% Dark Bites  $1,624     114   \n",
       "1        Brien Boise          USA  Choco Coated Almonds  $6,706     459   \n",
       "2       Husein Augar          USA          Almond Choco    $959     147   \n",
       "3       Carla Molina       Canada         Drinking Coco  $9,632     288   \n",
       "4     Curtice Advani           UK            White Choc  $2,100     414   \n",
       "..               ...          ...                   ...      ...    ...   \n",
       "295  Gunar Cockshoot  New Zealand          Almond Choco    $938     366   \n",
       "296  Gunar Cockshoot    Australia   Baker's Choco Chips  $8,841     303   \n",
       "297     Barr Faughny           UK   Peanut Butter Cubes  $4,018     126   \n",
       "298     Carla Molina  New Zealand       Raspberry Choco    $714     231   \n",
       "299     Husein Augar    Australia            White Choc  $3,850     102   \n",
       "\n",
       "     cost per unit  Cost  Profit  \n",
       "0               14  1652     -28  \n",
       "1                9  3970    2736  \n",
       "2               12  1746    -787  \n",
       "3                6  1863    7769  \n",
       "4               13  5444   -3344  \n",
       "..             ...   ...     ...  \n",
       "295             12  4348   -3410  \n",
       "296              6  1697    7144  \n",
       "297             12  1559    2459  \n",
       "298             12  2710   -1996  \n",
       "299             13  1341    2509  \n",
       "\n",
       "[300 rows x 8 columns]"
      ]
     },
     "execution_count": 13,
     "metadata": {},
     "output_type": "execute_result"
    }
   ],
   "source": [
    "df.drop('profit %', axis =1)"
   ]
  },
  {
   "cell_type": "markdown",
   "id": "bf165a76-5d6a-40e9-b0da-fc3e47fd6528",
   "metadata": {},
   "source": [
    "#### Number of sales persons"
   ]
  },
  {
   "cell_type": "code",
   "execution_count": 14,
   "id": "659b79be-da90-478a-9b00-61c07a4c401b",
   "metadata": {},
   "outputs": [
    {
     "data": {
      "text/plain": [
       "10"
      ]
     },
     "execution_count": 14,
     "metadata": {},
     "output_type": "execute_result"
    }
   ],
   "source": [
    "df['Sales Person'].nunique()"
   ]
  },
  {
   "cell_type": "markdown",
   "id": "7b5d126f-9f1f-42e8-a572-56f825f74bf5",
   "metadata": {},
   "source": [
    "#### Number of chocolate sales per sales person  "
   ]
  },
  {
   "cell_type": "markdown",
   "id": "cd9b0617-6be2-456e-9976-e456b7980d9c",
   "metadata": {},
   "source": [
    "##### Curtice Advani appears to be the sales persons with the highest number of chocolate sales "
   ]
  },
  {
   "cell_type": "code",
   "execution_count": 15,
   "id": "bcf3ab8d-5b02-443f-80f8-b4112fb991f9",
   "metadata": {},
   "outputs": [
    {
     "data": {
      "text/plain": [
       "Curtice Advani     38\n",
       "Ram Mahesh         34\n",
       "Ches Bonnell       34\n",
       "Gigi Bohling       31\n",
       "Husein Augar       30\n",
       "Barr Faughny       29\n",
       "Gunar Cockshoot    28\n",
       "Brien Boise        26\n",
       "Carla Molina       26\n",
       "Oby Sorrel         24\n",
       "Name: Sales Person, dtype: int64"
      ]
     },
     "execution_count": 15,
     "metadata": {},
     "output_type": "execute_result"
    }
   ],
   "source": [
    "df['Sales Person'].value_counts()"
   ]
  },
  {
   "cell_type": "markdown",
   "id": "cb88ab92-2da3-4cf9-b16e-860a8187bdae",
   "metadata": {},
   "source": [
    "#### Number of chocolate products"
   ]
  },
  {
   "cell_type": "markdown",
   "id": "3a17584d-8b52-46cf-8711-2162b8f00cfd",
   "metadata": {},
   "source": [
    "##### There are 22 chocolate products available in the market for sale "
   ]
  },
  {
   "cell_type": "code",
   "execution_count": 16,
   "id": "b71661ee-9e26-45fc-81e8-86ee8615066a",
   "metadata": {},
   "outputs": [
    {
     "data": {
      "text/plain": [
       "22"
      ]
     },
     "execution_count": 16,
     "metadata": {},
     "output_type": "execute_result"
    }
   ],
   "source": [
    "df['Product'].nunique()"
   ]
  },
  {
   "cell_type": "markdown",
   "id": "1e714c57-c19c-4812-b6ad-53a90f5192a3",
   "metadata": {},
   "source": [
    "#### Number of countries involved in the chocolate sales"
   ]
  },
  {
   "cell_type": "markdown",
   "id": "60c228b8-7b49-4566-a2e2-818d4320474d",
   "metadata": {},
   "source": [
    "##### Only 6 countries are involve in the sales"
   ]
  },
  {
   "cell_type": "code",
   "execution_count": 17,
   "id": "6402485e-e6cb-4f9d-81d3-d7299bc1db12",
   "metadata": {},
   "outputs": [
    {
     "data": {
      "text/plain": [
       "array(['New Zealand', 'USA', 'Canada', 'UK', 'Australia', 'India'],\n",
       "      dtype=object)"
      ]
     },
     "execution_count": 17,
     "metadata": {},
     "output_type": "execute_result"
    }
   ],
   "source": [
    "df['Geography'].unique()"
   ]
  },
  {
   "cell_type": "markdown",
   "id": "f4becc95-593f-4752-9ca6-9034c56a6f44",
   "metadata": {},
   "source": [
    "### The Most and List Profitable Product"
   ]
  },
  {
   "cell_type": "markdown",
   "id": "53684429-11d7-4f70-ba73-ff5915a8794a",
   "metadata": {},
   "source": [
    "##### The most profitable product is Baker's Choco Chips "
   ]
  },
  {
   "cell_type": "code",
   "execution_count": 18,
   "id": "3e1bfc79-7538-4f1a-bb65-a1c9dbad53d7",
   "metadata": {},
   "outputs": [
    {
     "name": "stdout",
     "output_type": "stream",
     "text": [
      "Baker's Choco Chips\n"
     ]
    }
   ],
   "source": [
    "def Most_Profitable_product(df):\n",
    "    \n",
    "    profit_per_prod = df.groupby('Product')['Profit'].sum()\n",
    "    \n",
    "    Most_Profitable_product=profit_per_prod.idxmax()\n",
    "\n",
    "    return Most_Profitable_product\n",
    "\n",
    "Profitable_prod =Most_Profitable_product(df)\n",
    "print(Profitable_prod)"
   ]
  },
  {
   "cell_type": "markdown",
   "id": "cd3fadf0-cd97-4635-bea0-909608cb9fa7",
   "metadata": {},
   "source": [
    "##### The list profitable product is Almond Choco"
   ]
  },
  {
   "cell_type": "code",
   "execution_count": 19,
   "id": "49ff7c85-fd9d-4c41-b9a0-2067e86f7a11",
   "metadata": {},
   "outputs": [
    {
     "name": "stdout",
     "output_type": "stream",
     "text": [
      "Almond Choco\n"
     ]
    }
   ],
   "source": [
    "def List_Profitable_product(df):\n",
    "    \n",
    "    profit_per_prod = df.groupby('Product')['Profit'].sum()\n",
    "    \n",
    "    List_Profitable_product=profit_per_prod.idxmin()\n",
    "\n",
    "    return List_Profitable_product\n",
    "\n",
    "Profitable_prod = List_Profitable_product(df)\n",
    "print(Profitable_prod)"
   ]
  },
  {
   "cell_type": "markdown",
   "id": "b8ccd6ae-fdbe-47ed-ae68-800ed97d954e",
   "metadata": {},
   "source": [
    "### Most and List profitable Sales Persons"
   ]
  },
  {
   "cell_type": "markdown",
   "id": "6f3b31c3-5a01-40b8-aa43-3c0b9f8dbb68",
   "metadata": {},
   "source": [
    "##### Gigi makes a lot of profit on chocolate sales as compared to other sales persons"
   ]
  },
  {
   "cell_type": "code",
   "execution_count": 20,
   "id": "99a01b11-3286-412e-9271-145090887934",
   "metadata": {},
   "outputs": [
    {
     "name": "stdout",
     "output_type": "stream",
     "text": [
      "Gigi Bohling\n"
     ]
    }
   ],
   "source": [
    "def Most_Profitable_person(df):\n",
    "    \n",
    "    profit_per_person = df.groupby('Sales Person')['Profit'].sum()\n",
    "    \n",
    "    Most_Profitable_person=profit_per_person.idxmax()\n",
    "\n",
    "    return Most_Profitable_person \n",
    "\n",
    "Profitable_prsn = Most_Profitable_person(df)\n",
    "print(Profitable_prsn)"
   ]
  },
  {
   "cell_type": "markdown",
   "id": "be919ba4-f66a-48d7-a2c4-19dd3cb786b3",
   "metadata": {},
   "source": [
    "##### Oby has the list profit in chocolate sales "
   ]
  },
  {
   "cell_type": "code",
   "execution_count": 21,
   "id": "ddd91cba-c599-4351-8460-652e00255615",
   "metadata": {},
   "outputs": [
    {
     "name": "stdout",
     "output_type": "stream",
     "text": [
      "Oby Sorrel\n"
     ]
    }
   ],
   "source": [
    "def List_Profitable_person(df):\n",
    "    \n",
    "    profit_per_person = df.groupby('Sales Person')['Profit'].sum()\n",
    "    \n",
    "    List_Profitable_person=profit_per_person.idxmin()\n",
    "\n",
    "    return List_Profitable_person \n",
    "\n",
    "Profitable_prsn = List_Profitable_person(df)\n",
    "print(Profitable_prsn)"
   ]
  },
  {
   "cell_type": "markdown",
   "id": "30164164-a72f-4ddf-b9a5-41d613dcae6d",
   "metadata": {},
   "source": [
    "### Most Expensive Product"
   ]
  },
  {
   "cell_type": "markdown",
   "id": "8f28c26e-2505-43b2-8060-0cba5b902553",
   "metadata": {},
   "source": [
    "##### The most expensive prooduct across all the Geographical area is Mint Chip Choco with a price of $ 16,184.0 and the cheap product being Manuka Honey choco with a price of 0"
   ]
  },
  {
   "cell_type": "code",
   "execution_count": 22,
   "id": "3811e967-9d5a-4ac4-91d8-c5822e5dc4ea",
   "metadata": {},
   "outputs": [],
   "source": [
    "## cleaning Amount column\n",
    "\n",
    "df['Amount']= df['Amount'].replace('$','',regex = True)"
   ]
  },
  {
   "cell_type": "code",
   "execution_count": 23,
   "id": "6f7ee7ad-d56f-4474-9b2c-8ea9331d7a86",
   "metadata": {},
   "outputs": [],
   "source": [
    "df['Amount'] = df['Amount'].replace('[\\$,]', '', regex=True).astype(float)"
   ]
  },
  {
   "cell_type": "code",
   "execution_count": 24,
   "id": "b8189cb7-0288-4a01-9058-a4859f6d496c",
   "metadata": {},
   "outputs": [
    {
     "name": "stdout",
     "output_type": "stream",
     "text": [
      "The most expensive product in 0      New Zealand\n",
      "1              USA\n",
      "2              USA\n",
      "3           Canada\n",
      "4               UK\n",
      "          ...     \n",
      "295    New Zealand\n",
      "296      Australia\n",
      "297             UK\n",
      "298    New Zealand\n",
      "299      Australia\n",
      "Name: Geography, Length: 300, dtype: object is Mint Chip Choco with a price of $16184.0.\n"
     ]
    }
   ],
   "source": [
    "def most_expensive_product_by_country(df,country ):\n",
    "    \n",
    "    # Filter DataFrame based on country\n",
    "    country_df = df[df['Geography'] == country]\n",
    "\n",
    "    if country_df.empty:\n",
    "        return None  \n",
    "\n",
    "    # Find the most expensive product\n",
    "    most_expensive_product = country_df.loc[country_df['Amount'].idxmax()]\n",
    "\n",
    "    return most_expensive_product\n",
    "    \n",
    "country = df['Geography']\n",
    "most_expensive = most_expensive_product_by_country(df, country)\n",
    "\n",
    "if most_expensive is not None:\n",
    "    print(\"The most expensive product in {} is {} with a price of ${}.\".format(country, most_expensive['Product'], most_expensive['Amount']))\n",
    "else:\n",
    "    print(\"No products found for {}.\".format(country))"
   ]
  },
  {
   "cell_type": "code",
   "execution_count": 25,
   "id": "04c43cb8-c1a2-4d28-8287-18548a1528bd",
   "metadata": {},
   "outputs": [
    {
     "name": "stdout",
     "output_type": "stream",
     "text": [
      "The cheapest product in 0      New Zealand\n",
      "1              USA\n",
      "2              USA\n",
      "3           Canada\n",
      "4               UK\n",
      "          ...     \n",
      "295    New Zealand\n",
      "296      Australia\n",
      "297             UK\n",
      "298    New Zealand\n",
      "299      Australia\n",
      "Name: Geography, Length: 300, dtype: object is Manuka Honey Choco with a price of $0.0.\n"
     ]
    }
   ],
   "source": [
    "def cheapest_product_by_country(df,country ):\n",
    "    \n",
    "    # Filter DataFrame based on country\n",
    "    country_df = df[df['Geography'] == country]\n",
    "\n",
    "    if country_df.empty:\n",
    "        return None  \n",
    "\n",
    "    # Find the cheapest product\n",
    "    cheapest_product = country_df.loc[country_df['Amount'].idxmin()]\n",
    "\n",
    "    return cheapest_product\n",
    "    \n",
    "country = df['Geography']\n",
    "cheapest = cheapest_product_by_country(df, country)\n",
    "\n",
    "if cheapest is not None:\n",
    "    print(\"The cheapest product in {} is {} with a price of ${}.\".format(country, cheapest['Product'], cheapest['Amount']))\n",
    "else:\n",
    "    print(\"No products found for {}.\".format(country))"
   ]
  }
 ],
 "metadata": {
  "kernelspec": {
   "display_name": "Python 3 (ipykernel)",
   "language": "python",
   "name": "python3"
  },
  "language_info": {
   "codemirror_mode": {
    "name": "ipython",
    "version": 3
   },
   "file_extension": ".py",
   "mimetype": "text/x-python",
   "name": "python",
   "nbconvert_exporter": "python",
   "pygments_lexer": "ipython3",
   "version": "3.11.4"
  }
 },
 "nbformat": 4,
 "nbformat_minor": 5
}
